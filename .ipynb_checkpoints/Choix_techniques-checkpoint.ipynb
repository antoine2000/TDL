{
 "cells": [
  {
   "cell_type": "markdown",
   "metadata": {},
   "source": [
    "# Explication des choix techniques liés au projet\n",
    "\n",
    "Ce fichier a pour but de vous faire comprendre les choix techniques liés à l'interface de to do list.\n",
    "\n",
    "## Mode de stockage des informations\n",
    "\n",
    "Le stockage des informations liées aux tâches se fait dans un fichier unique, nommé \"Tasks.txt\".\n",
    "\n",
    "Chaque ligne de ce fichier représente une tâche, et ses attributs sont différenciés par des \"/\". Le projet attribut est l'identififiant,\n",
    "puis le titre, la description, la date de début puis de fin, le statut de la tâche (0 : ouverte, 2 : fermée, 1 : en progrès), son avancement (en %),\n",
    "son importance (0 : faible, 1 : normale, 2 : haute, 3 : super haute), et enfin ses commmentaires puis ses sous-tâches.\n",
    "\n",
    "## Traitement des commandes\n",
    "\n",
    "Les commandes de l'utilisateur sont tout d'abord séparées en fonctions principales puis en différentes arguments, au moyen d'une fonction\n",
    "qui \"coupe\" l'entrée lorsqu'elle détecte un \"--\".\n",
    "\n",
    "Ensuite chaque arguments est interprété, ainsi que les valeurs entrées par l'utilisateur. On a donc 3 objets à la fin de l'interprétation par l'interface :\n",
    " - La fonction principale\n",
    " - Les arguments entrés\n",
    " - Les valeurs associées\n",
    "\n",
    "Ce triplet constitue dans le code un objet intitulé \"understood\". L'objet understood est alors utilisé par l'interface pour réagir.\n",
    "\n",
    "### Création d'une tâche\n",
    "\n",
    "Lorsque l'utilisateur veut créer une tâche, il entre ses arguments et valeurs. On utilise alors une fonction attachée à la classe \"Task-manager\",\n",
    "la fonction \"add_to_file\", qui vérifie que les arguments sont bien valides (pas de /), puis ajoute une ligne au fichier \"Tasks.txt\".\n",
    "\n",
    "### Liste de tâches\n",
    "\n",
    "Pour faire des listes de tâches, on cherche les tâches qui vérifient les valeurs entrées par l'utilisateur. \n",
    "\n",
    "Dans le cas général, on cherche à faire correspondre exactement les valeurs de l'utilisateur et les valeurs des tâches. Cependant, \n",
    "deux cas particuliers sont à retenir : les commentaires et les sous-tâches. \n",
    "Pour ces deux arguments, l'interface cherchera les tâches vérifiant au moins l'une des valeurs entrées. \n",
    "\n",
    "Par exemple, si l'utilisateur entre \"list --comments co1;co2\", l'interface renverra toutes les tâches ayant au moins co1 ou co2 comme commentaires.\n",
    "\n",
    "### Supprimer\n",
    "\n",
    "Pour supprimer, j'ai décidé de réecrire le fichier d'enregistrement en faisant la liste des tâches concernées par la commande de l'utilisateur\n",
    "Ces tâches ne sont donc pas inscrites dans le \"nouveau\" fichier\n",
    "\n",
    "### Modifier\n",
    "\n",
    "Pour modifier, j'ai décidé de supprimer les tâches concernées par la commande de l'utilisateur et de les réecrire\n",
    "\n",
    "## Mode graphique\n",
    "\n",
    "Le code du mode graphique est très particulier, j'ai eu du mal à gérer les différents types de FLTK et j'ai donc beaucoup de code redondant\n",
    "ou qui aurait pu être évité. Cepedendant le fonctionnement général du code est de faire le lien entre l'interface graphique et les fonctions \n",
    "codées en C++ du mode console, au moyen des différents \"widgets\" de FLTK. La partie la plus complexe vient lors de l'interprétation des entrées\n",
    "utilisateurs...\n",
    "\n",
    "\n"
   ]
  }
 ],
 "metadata": {
  "kernelspec": {
   "display_name": "Python 3",
   "language": "python",
   "name": "python3"
  },
  "language_info": {
   "codemirror_mode": {
    "name": "ipython",
    "version": 3
   },
   "file_extension": ".py",
   "mimetype": "text/x-python",
   "name": "python",
   "nbconvert_exporter": "python",
   "pygments_lexer": "ipython3",
   "version": "3.7.6"
  }
 },
 "nbformat": 4,
 "nbformat_minor": 2
}
