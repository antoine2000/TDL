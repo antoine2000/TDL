{
 "cells": [
  {
   "cell_type": "markdown",
   "metadata": {},
   "source": [
    "# Jeux de test de l'interface de \"to do list\""
   ]
  },
  {
   "cell_type": "markdown",
   "metadata": {},
   "source": [
    "Ce notebook vise à donner une preuve du bon fonctionnement de gestionnaire de \"to do list\", écrit en C++.\n",
    "Chaque fonctionnalité sera donc testée et approuvée."
   ]
  },
  {
   "cell_type": "markdown",
   "metadata": {},
   "source": [
    "    "
   ]
  },
  {
   "cell_type": "markdown",
   "metadata": {},
   "source": [
    "## Création de tâches"
   ]
  },
  {
   "cell_type": "markdown",
   "metadata": {},
   "source": [
    "Pour cette partie, il est essentiel de tester le fait que l'interface comprend bien tous les arguments donnés en entrée de la tâche et uniquement ceux-ci. C'est-à-dire que la commande doit créer une tâche si et seulement si la commande est valide."
   ]
  },
  {
   "cell_type": "markdown",
   "metadata": {},
   "source": [
    "### Commande simple valide"
   ]
  },
  {
   "cell_type": "markdown",
   "metadata": {},
   "source": [
    "#### Mode console"
   ]
  },
  {
   "cell_type": "markdown",
   "metadata": {},
   "source": [
    "Nous allons tester la création d'une tâche ayant pour titre \"titre de test\""
   ]
  },
  {
   "cell_type": "raw",
   "metadata": {},
   "source": [
    "      >create --title titre de test"
   ]
  },
  {
   "cell_type": "markdown",
   "metadata": {},
   "source": [
    "On retrouve alors la ligne suivante dans le fichier d'enregistrement "
   ]
  },
  {
   "cell_type": "raw",
   "metadata": {},
   "source": []
  },
  {
   "cell_type": "markdown",
   "metadata": {},
   "source": [
    "#### Mode graphique"
   ]
  },
  {
   "cell_type": "markdown",
   "metadata": {},
   "source": [
    "De même pour le mode graphique. On se place dans le menu de création d'une tâche, et on entre uniquement \"titre de test\" dans la zone associée au titre, avant de cliquer sur la bouton \"done\""
   ]
  },
  {
   "cell_type": "markdown",
   "metadata": {},
   "source": [
    "On retrouve alors la ligne suivante dans le fichier d'enregistrement "
   ]
  },
  {
   "cell_type": "raw",
   "metadata": {},
   "source": []
  },
  {
   "cell_type": "markdown",
   "metadata": {},
   "source": [
    "### Commande complexe valide"
   ]
  },
  {
   "cell_type": "markdown",
   "metadata": {},
   "source": [
    "On testera ici la création d'une tâche complexe : \n",
    " - titre : titre de test 2\n",
    " - description : tâche complexe\n",
    " - début : date actuelle\n",
    " - fin : dans une semaine\n",
    " - avancement : 85%\n",
    " - priorité : Faible\n",
    " - progrès : En progrès\n",
    " - commmentaires : J'adore cette tâche; trop génial le C++\n",
    " - Sous-tâches : 1 et 2 (ID)"
   ]
  },
  {
   "cell_type": "markdown",
   "metadata": {},
   "source": [
    "#### Mode console"
   ]
  },
  {
   "cell_type": "markdown",
   "metadata": {},
   "source": [
    "commande associée : "
   ]
  },
  {
   "cell_type": "raw",
   "metadata": {},
   "source": [
    "    >create --title titre de test 2 --description tâche complexe --end 4/4/2020 --avancement 85 --priority Low --progress In-   Progress --comments J'adore cette tâche; trop génial le C++ --under 1;2"
   ]
  },
  {
   "cell_type": "markdown",
   "metadata": {},
   "source": [
    "Dans le fichier on retrouve la ligne suivante :"
   ]
  },
  {
   "cell_type": "markdown",
   "metadata": {},
   "source": []
  },
  {
   "cell_type": "markdown",
   "metadata": {},
   "source": [
    "#### Mode graphique"
   ]
  },
  {
   "cell_type": "markdown",
   "metadata": {},
   "source": [
    "### Commande invalide"
   ]
  },
  {
   "cell_type": "markdown",
   "metadata": {},
   "source": [
    "#### Mode console"
   ]
  },
  {
   "cell_type": "markdown",
   "metadata": {},
   "source": [
    "#### Mode graphique"
   ]
  },
  {
   "cell_type": "markdown",
   "metadata": {},
   "source": [
    "## Liste"
   ]
  },
  {
   "cell_type": "markdown",
   "metadata": {},
   "source": [
    "Comme pour la création de tâche, il faut vérifier que l'interface comprend et intérprète bien les ordres de l'utilisateur. On ne fera pas de test de rejet de commande invalide, ceci ayant déjà été testé précédemment"
   ]
  },
  {
   "cell_type": "markdown",
   "metadata": {},
   "source": [
    "### Mode console"
   ]
  },
  {
   "cell_type": "markdown",
   "metadata": {},
   "source": [
    "### Mode graphique"
   ]
  },
  {
   "cell_type": "markdown",
   "metadata": {},
   "source": [
    "## Suppression"
   ]
  },
  {
   "cell_type": "markdown",
   "metadata": {},
   "source": [
    "Pareillement aux cas précédent, on s'attardera à tester les deux modes de suppression de tâche : par identifiant et par défault, pouvant supprimer plusieurs items à la fois"
   ]
  },
  {
   "cell_type": "markdown",
   "metadata": {},
   "source": [
    "### Mode console"
   ]
  },
  {
   "cell_type": "markdown",
   "metadata": {},
   "source": [
    "### Mode graphique"
   ]
  },
  {
   "cell_type": "markdown",
   "metadata": {},
   "source": [
    "## Modification"
   ]
  },
  {
   "cell_type": "markdown",
   "metadata": {},
   "source": [
    "Enfin, cette fonctionnalité utilise toutes les autres : elle utilise la suppression pour supprimer les anciennes tâches, préalablement choisies par la fonction de liste, et en recréer d'autres."
   ]
  },
  {
   "cell_type": "markdown",
   "metadata": {},
   "source": []
  }
 ],
 "metadata": {
  "kernelspec": {
   "display_name": "Python 3",
   "language": "python",
   "name": "python3"
  },
  "language_info": {
   "codemirror_mode": {
    "name": "ipython",
    "version": 3
   },
   "file_extension": ".py",
   "mimetype": "text/x-python",
   "name": "python",
   "nbconvert_exporter": "python",
   "pygments_lexer": "ipython3",
   "version": "3.7.4"
  }
 },
 "nbformat": 4,
 "nbformat_minor": 2
}
