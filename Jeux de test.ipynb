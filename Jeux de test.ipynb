{
 "cells": [
  {
   "cell_type": "markdown",
   "metadata": {},
   "source": [
    "# Jeux de test de l'interface de \"to do list\""
   ]
  },
  {
   "cell_type": "markdown",
   "metadata": {},
   "source": [
    "Ce notebook vise à donner une preuve du bon fonctionnement de gestionnaire de \"to do list\", écrit en C++.\n",
    "Chaque fonctionnalité sera donc testée et approuvée."
   ]
  },
  {
   "cell_type": "markdown",
   "metadata": {},
   "source": [
    "## Création de tâches"
   ]
  },
  {
   "cell_type": "markdown",
   "metadata": {},
   "source": [
    "Pour cette partie, il est essentiel de tester le fait que l'interface comprend bien tous les arguments donnés en entrée de la tâche et uniquement ceux-ci. C'est-à-dire que la commande doit créer une tâche si et seulement si la commande est valide."
   ]
  },
  {
   "cell_type": "markdown",
   "metadata": {},
   "source": [
    "### Commande simple valide"
   ]
  },
  {
   "cell_type": "markdown",
   "metadata": {},
   "source": [
    "#### Mode console"
   ]
  },
  {
   "cell_type": "markdown",
   "metadata": {},
   "source": [
    "Nous allons tester la création d'une tâche ayant pour titre \"titre de test\""
   ]
  },
  {
   "cell_type": "markdown",
   "metadata": {},
   "source": [
    " >create --title titre de test"
   ]
  },
  {
   "cell_type": "markdown",
   "metadata": {},
   "source": [
    "On retrouve alors la ligne suivante dans le fichier d'enregistrement "
   ]
  },
  {
   "cell_type": "markdown",
   "metadata": {},
   "source": [
    "  > 1/titre de test/Pas de description/ 30-3-2020/ 30-3-2020/0/0/1/Pas de commentaires;/-1;/"
   ]
  },
  {
   "cell_type": "markdown",
   "metadata": {},
   "source": [
    "#### Mode graphique"
   ]
  },
  {
   "cell_type": "markdown",
   "metadata": {},
   "source": [
    "De même pour le mode graphique. On se place dans le menu de création d'une tâche, et on entre uniquement \"titre de test\" dans la zone associée au titre, avant de cliquer sur la bouton \"done\""
   ]
  },
  {
   "cell_type": "markdown",
   "metadata": {},
   "source": [
    "On retrouve alors la ligne même dans le fichier d'enregistrement !"
   ]
  },
  {
   "cell_type": "markdown",
   "metadata": {},
   "source": [
    "1/Pas de titre/Pas de description/ 30-3-2020/ 30-3-2020/0/0/0/Pas de commentaires;/-1;/\n",
    "2/Pas de titre/Pas de description/ 30-3-2020/ 30-3-2020/1/0/0/Pas de commentaires;/-1;/\n",
    "3/Pas de titre/Pas de description/ 30-3-2020/ 30-3-2020/2/0/0/Pas de commentaires;/-1;/\n",
    "4/Pas de titre/Pas de description/ 30-3-2020/ 30-3-2020/0/0/2/Pas de commentaires;/-1;/\n",
    "5/Pas de titre/Pas de description/ 30-3-2020/ 30-3-2020/1/0/2/Pas de commentaires;/-1;/\n",
    "6/Pas de titre/Pas de description/ 30-3-2020/ 30-3-2020/2/0/2/Pas de commentaires;/-1;/\n",
    "7/Pas de titre/Pas de description/ 30-3-2020/ 30-3-2020/0/0/3/Pas de commentaires;/-1;/\n",
    "8/Pas de titre/Pas de description/ 30-3-2020/ 30-3-2020/1/0/3/Pas de commentaires;/-1;/\n",
    "9/Pas de titre/Pas de description/ 30-3-2020/ 30-3-2020/2/0/3/Pas de commentaires;/-1;/"
   ]
  },
  {
   "cell_type": "markdown",
   "metadata": {},
   "source": [
    "### Commande complexe valide"
   ]
  },
  {
   "cell_type": "markdown",
   "metadata": {},
   "source": [
    "On testera ici la création d'une tâche complexe : \n",
    " - titre : titre de test 2\n",
    " - description : tâche complexe\n",
    " - début : date actuelle\n",
    " - fin : dans une semaine\n",
    " - avancement : 85%\n",
    " - priorité : Faible\n",
    " - progrès : En progrès\n",
    " - commmentaires : J'adore cette tâche; trop génial le C++\n",
    " - Sous-tâches : 1 et 2 (ID)"
   ]
  },
  {
   "cell_type": "markdown",
   "metadata": {},
   "source": [
    "#### Mode console"
   ]
  },
  {
   "cell_type": "markdown",
   "metadata": {},
   "source": [
    "commande associée : "
   ]
  },
  {
   "cell_type": "markdown",
   "metadata": {},
   "source": [
    " >create --title titre de test 2 --description tâche complexe --end 4-4-2020 --avancement 85 --priority Low --progress In-   Progress --comments J'adore cette tâche; trop génial le C++ --Under 1;2"
   ]
  },
  {
   "cell_type": "markdown",
   "metadata": {},
   "source": [
    "Dans le fichier on retrouve la ligne suivante :"
   ]
  },
  {
   "cell_type": "markdown",
   "metadata": {},
   "source": [
    "  >1/titre de test 2/tâche complexe/ 30-3-2020/ 4-4-2020/0/85/0/J'adore cette tâche; trop génial le C++ ;/1;2;/"
   ]
  },
  {
   "cell_type": "markdown",
   "metadata": {},
   "source": [
    "Le test est donc concluant !"
   ]
  },
  {
   "cell_type": "markdown",
   "metadata": {},
   "source": [
    "#### Mode graphique"
   ]
  },
  {
   "cell_type": "markdown",
   "metadata": {},
   "source": [
    "On retrouve ce résultat en mode graphique"
   ]
  },
  {
   "cell_type": "markdown",
   "metadata": {},
   "source": [
    "### Commande invalide"
   ]
  },
  {
   "cell_type": "markdown",
   "metadata": {},
   "source": [
    "#### Mode console"
   ]
  },
  {
   "cell_type": "markdown",
   "metadata": {},
   "source": [
    "Pour prouver que l'interface est résiliante aux mauvaises entrées, on peut tester différentes entrées, et vérifier que rien ne s'écrit dans le fichier d'enregistrement.\n",
    " - 1ère commande : on a pas un entier en argument pour avancement\n",
    " - 2ème commande : on a mis un \"/\" dans la date\n",
    " - 3ème commande : on a oublié un point virgule entre les deux commentaires"
   ]
  },
  {
   "cell_type": "markdown",
   "metadata": {},
   "source": [
    " >create --title titre test 3 --description tâche incorrecte --avancement r \n",
    " \n",
    " >create --title titre test 4 --begin 20/05/2020 \n",
    " \n",
    " >create --title titre test 5 --comments co1 co2"
   ]
  },
  {
   "cell_type": "markdown",
   "metadata": {},
   "source": [
    "Pour les deux premières commandes, on n'observe rien dans le fichier d'enregistrements, et pour la dernière on a une ligne, mais les deux commentaires ne sont pas différenciés (il manque un point virgule entre eux)"
   ]
  },
  {
   "cell_type": "markdown",
   "metadata": {},
   "source": [
    "> 2/titre test 5/Pas de description/ 30-3-2020/ 30-3-2020/0/0/1/co1 co2;/-1;/"
   ]
  },
  {
   "cell_type": "markdown",
   "metadata": {},
   "source": [
    "#### Mode graphique"
   ]
  },
  {
   "cell_type": "markdown",
   "metadata": {},
   "source": [
    "Les exemples fonctionnent également. Ils sont cependant moins pertinent car on ne peut par exemple pas entrer de caractère qui ne soit pas un chiffre dans la partie \"avancement\""
   ]
  },
  {
   "cell_type": "markdown",
   "metadata": {},
   "source": [
    "## Liste"
   ]
  },
  {
   "cell_type": "markdown",
   "metadata": {},
   "source": [
    "Comme pour la création de tâche, il faut vérifier que l'interface comprend et intérprète bien les ordres de l'utilisateur. On ne fera pas de test de rejet de commande invalide, ceci ayant déjà été testé précédemment"
   ]
  },
  {
   "cell_type": "markdown",
   "metadata": {},
   "source": [
    "### Mode console"
   ]
  },
  {
   "cell_type": "markdown",
   "metadata": {},
   "source": [
    "On va créer 9 tâches test, sur lesquelles je fais varier la priorité (faible, haute, super-haute) et le statut (ouvert, fermé, en progrès):\n",
    " - faible / ouvert\n",
    " - faible / en progrès\n",
    " - faible / fermée\n",
    " - haute / ouvert\n",
    " - haute / en progrès\n",
    " - haut / fermé\n",
    " - super-haute / ouvert\n",
    " - super-haute / en progrès\n",
    " - super / fermé\n",
    " \n",
    " On va ensuite jouer avec ces tâches : on affiche toutes les tâches de priorité super-haute puis les tâches de statut ouvert "
   ]
  },
  {
   "cell_type": "markdown",
   "metadata": {},
   "source": [
    "Etat du fichier d'enregistrement avant les opérations: "
   ]
  },
  {
   "cell_type": "markdown",
   "metadata": {},
   "source": [
    "![taches_base](./photos/taches_base.png)"
   ]
  },
  {
   "cell_type": "markdown",
   "metadata": {},
   "source": [
    " >list --priority High --progress Open"
   ]
  },
  {
   "cell_type": "markdown",
   "metadata": {},
   "source": [
    "On observe alors dans la console la sortie suivante :"
   ]
  },
  {
   "cell_type": "markdown",
   "metadata": {},
   "source": [
    "![list_console](./photos/list_console.png)"
   ]
  },
  {
   "cell_type": "markdown",
   "metadata": {},
   "source": [
    "Cela a donc fonctionné ! On essaie de même avec :\n",
    ">list --priority Super-High"
   ]
  },
  {
   "cell_type": "markdown",
   "metadata": {},
   "source": [
    "![list_console](./photos/list_console_2.png)"
   ]
  },
  {
   "cell_type": "markdown",
   "metadata": {},
   "source": [
    "### Mode graphique"
   ]
  },
  {
   "cell_type": "markdown",
   "metadata": {},
   "source": [
    "De même, en mode graphique on obtient :"
   ]
  },
  {
   "cell_type": "markdown",
   "metadata": {},
   "source": [
    "![list_graphic](./photos/list_graphic_1.png)"
   ]
  },
  {
   "cell_type": "markdown",
   "metadata": {},
   "source": [
    "ce qui est bien la tâche recherchée !"
   ]
  },
  {
   "cell_type": "markdown",
   "metadata": {},
   "source": [
    "Pour le second test, on obtient bien également le même résultat qu'en mode console"
   ]
  },
  {
   "cell_type": "markdown",
   "metadata": {},
   "source": [
    "## Suppression"
   ]
  },
  {
   "cell_type": "markdown",
   "metadata": {},
   "source": [
    "Pareillement aux cas précédent, on s'attardera à tester les deux modes de suppression de tâche : par identifiant et par défault, pouvant supprimer plusieurs items à la fois\n",
    "\n",
    "On reprend donc le jeu de tâches précédent, on va supprimer la tâche 2 puis toutes les tâches de priorité Super-haute"
   ]
  },
  {
   "cell_type": "markdown",
   "metadata": {},
   "source": [
    "### Mode console"
   ]
  },
  {
   "cell_type": "markdown",
   "metadata": {},
   "source": [
    "En mode console, on inscrit donc les commandes :\n",
    "\n",
    ">remove --ID 2\n",
    "\n",
    ">remove --priority Super-High"
   ]
  },
  {
   "cell_type": "markdown",
   "metadata": {},
   "source": [
    "Le fichier ne fait alors plus que 5 lignes, les tâches d'identifiant 2, 7, 8 et 9 ont disparus !\n",
    "\n",
    "Pour illustrer cela, on peut utiliser visualiser le fichier:"
   ]
  },
  {
   "cell_type": "markdown",
   "metadata": {},
   "source": [
    "![taches apres delete](./photos/tâches_apres_delete.png)"
   ]
  },
  {
   "cell_type": "markdown",
   "metadata": {},
   "source": [
    "### Mode graphique"
   ]
  },
  {
   "cell_type": "markdown",
   "metadata": {},
   "source": [
    "On retrouve encore une fois les même résultats"
   ]
  },
  {
   "cell_type": "markdown",
   "metadata": {},
   "source": [
    "![delete_graphic](./photos/delete_graphic_1.png)"
   ]
  },
  {
   "cell_type": "markdown",
   "metadata": {},
   "source": [
    "## Modification"
   ]
  },
  {
   "cell_type": "markdown",
   "metadata": {},
   "source": [
    "Enfin, cette fonctionnalité utilise toutes les autres : elle utilise la suppression pour supprimer les anciennes tâches, préalablement choisies par la fonction de liste, et en recréer d'autres."
   ]
  },
  {
   "cell_type": "markdown",
   "metadata": {},
   "source": [
    "![taches_base](./photos/taches_base.png)"
   ]
  },
  {
   "cell_type": "markdown",
   "metadata": {},
   "source": [
    "### Mode console"
   ]
  },
  {
   "cell_type": "markdown",
   "metadata": {},
   "source": [
    "On entre alors en mode console la commande suivante :\n",
    "\n",
    ">modify --prioritym High --priority Normal\n",
    "\n",
    "Puis :\n",
    "\n",
    ">list --priority Normal"
   ]
  },
  {
   "cell_type": "markdown",
   "metadata": {},
   "source": [
    "![modify](./photos/modify_console.png)"
   ]
  },
  {
   "cell_type": "markdown",
   "metadata": {},
   "source": [
    "On observe aussi que l'ordre des tâches à changé dans le fichier (signe de la réécriture du fichier), et que les tâches 4 à 6 sont bien passés d'une priorité haute (codée avant les commentaires par un 2), à une priorité normale (codée par 1)"
   ]
  },
  {
   "cell_type": "markdown",
   "metadata": {},
   "source": [
    "### Mode graphique"
   ]
  },
  {
   "cell_type": "markdown",
   "metadata": {},
   "source": [
    "En mode graphique on ne peut modifier plusieurs tâches simultanément, j'ai donc fait le test avec la tâche 4, que j'ai complètement modifiée !"
   ]
  },
  {
   "cell_type": "markdown",
   "metadata": {},
   "source": [
    "![graphic_modify](./photos/modify_graphic_1.png)"
   ]
  },
  {
   "cell_type": "markdown",
   "metadata": {},
   "source": [
    "On obtien alors la tâche suivante !"
   ]
  },
  {
   "cell_type": "markdown",
   "metadata": {},
   "source": [
    "![graphic_modify](./photos/modify_graphic_2.png)"
   ]
  },
  {
   "cell_type": "markdown",
   "metadata": {},
   "source": [
    "Cela a donc fonctionné !"
   ]
  },
  {
   "cell_type": "markdown",
   "metadata": {},
   "source": [
    "# Conclusion"
   ]
  },
  {
   "cell_type": "markdown",
   "metadata": {},
   "source": [
    "Nous avons donc testé tous les aspects de la \"to do list\" et rempli le contrat initial : toutes les fonctionnalités sont fonctionnelles et vous pourrez vous aussi gérer vos tâches automatiquement !"
   ]
  }
 ],
 "metadata": {
  "kernelspec": {
   "display_name": "Python 3",
   "language": "python",
   "name": "python3"
  },
  "language_info": {
   "codemirror_mode": {
    "name": "ipython",
    "version": 3
   },
   "file_extension": ".py",
   "mimetype": "text/x-python",
   "name": "python",
   "nbconvert_exporter": "python",
   "pygments_lexer": "ipython3",
   "version": "3.7.6"
  }
 },
 "nbformat": 4,
 "nbformat_minor": 2
}
